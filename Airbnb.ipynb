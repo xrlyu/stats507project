{
 "cells": [
  {
   "cell_type": "code",
   "execution_count": 99,
   "metadata": {},
   "outputs": [],
   "source": [
    "import numpy as np\n",
    "import pandas as pd\n",
    "import matplotlib\n",
    "import matplotlib.pyplot as plt"
   ]
  },
  {
   "cell_type": "code",
   "execution_count": 117,
   "metadata": {},
   "outputs": [
    {
     "data": {
      "text/plain": [
       "(3903,)"
      ]
     },
     "execution_count": 117,
     "metadata": {},
     "output_type": "execute_result"
    }
   ],
   "source": [
    "listings = pd.read_csv('listings.csv')\n",
    "listings = listings.rename(columns={'id': 'listing_id'})\n",
    "listings = listings[['listing_id', 'review_scores_rating', 'review_scores_accuracy',\n",
    "                     'review_scores_cleanliness', 'review_scores_checkin',\n",
    "                     'review_scores_communication', 'review_scores_location',\n",
    "                     'review_scores_value']]\n",
    "np.shape(listings.listing_id.unique()) # number of unique listings in Boston"
   ]
  },
  {
   "cell_type": "code",
   "execution_count": 105,
   "metadata": {},
   "outputs": [
    {
     "data": {
      "image/png": "[encoded data removed]",
      "text/plain": [
       "<Figure size 432x288 with 1 Axes>"
      ]
     },
     "metadata": {
      "needs_background": "light"
     },
     "output_type": "display_data"
    }
   ],
   "source": [
    "_ = plt.hist(listings['review_scores_rating'], 40)"
   ]
  },
  {
   "cell_type": "code",
   "execution_count": 146,
   "metadata": {},
   "outputs": [
    {
     "data": {
      "text/plain": [
       "(3144,)"
      ]
     },
     "execution_count": 146,
     "metadata": {},
     "output_type": "execute_result"
    }
   ],
   "source": [
    "reviews = pd.read_csv('reviews.csv')\n",
    "reviews = reviews[['listing_id', 'reviewer_id', 'comments']]\n",
    "np.shape(reviews.listing_id.unique()) # number of unique listings that have review(s)"
   ]
  },
  {
   "cell_type": "code",
   "execution_count": 147,
   "metadata": {},
   "outputs": [
    {
     "data": {
      "text/plain": [
       "(3144,)"
      ]
     },
     "execution_count": 147,
     "metadata": {},
     "output_type": "execute_result"
    }
   ],
   "source": [
    "full = pd.merge(listings, reviews, on='listing_id')"
   ]
  },
  {
   "cell_type": "code",
   "execution_count": 154,
   "metadata": {},
   "outputs": [],
   "source": [
    "bool_series = pd.notnull(full['review_scores_rating'])\n",
    "np.shape(full[bool_series].listing_id.unique()) # number of unique listings with both ratings and review(s)\n",
    "full = full[bool_series] # update the merged dataset, excluding all listings without ratings"
   ]
  },
  {
   "cell_type": "code",
   "execution_count": 152,
   "metadata": {},
   "outputs": [
    {
     "data": {
      "text/html": [
       "<div>\n",
       "<style scoped>\n",
       "    .dataframe tbody tr th:only-of-type {\n",
       "        vertical-align: middle;\n",
       "    }\n",
       "\n",
       "    .dataframe tbody tr th {\n",
       "        vertical-align: top;\n",
       "    }\n",
       "\n",
       "    .dataframe thead th {\n",
       "        text-align: right;\n",
       "    }\n",
       "</style>\n",
       "<table border=\"1\" class=\"dataframe\">\n",
       "  <thead>\n",
       "    <tr style=\"text-align: right;\">\n",
       "      <th></th>\n",
       "      <th>listing_id</th>\n",
       "      <th>review_scores_rating</th>\n",
       "      <th>review_scores_accuracy</th>\n",
       "      <th>review_scores_cleanliness</th>\n",
       "      <th>review_scores_checkin</th>\n",
       "      <th>review_scores_communication</th>\n",
       "      <th>review_scores_location</th>\n",
       "      <th>review_scores_value</th>\n",
       "      <th>reviewer_id</th>\n",
       "      <th>comments</th>\n",
       "    </tr>\n",
       "  </thead>\n",
       "  <tbody>\n",
       "    <tr>\n",
       "      <td>0</td>\n",
       "      <td>3781</td>\n",
       "      <td>99.0</td>\n",
       "      <td>10.0</td>\n",
       "      <td>10.0</td>\n",
       "      <td>10.0</td>\n",
       "      <td>10.0</td>\n",
       "      <td>10.0</td>\n",
       "      <td>10.0</td>\n",
       "      <td>36059247</td>\n",
       "      <td>The apartment was as advertised and Frank was ...</td>\n",
       "    </tr>\n",
       "    <tr>\n",
       "      <td>1</td>\n",
       "      <td>3781</td>\n",
       "      <td>99.0</td>\n",
       "      <td>10.0</td>\n",
       "      <td>10.0</td>\n",
       "      <td>10.0</td>\n",
       "      <td>10.0</td>\n",
       "      <td>10.0</td>\n",
       "      <td>10.0</td>\n",
       "      <td>10459388</td>\n",
       "      <td>It was a pleasure to stay at Frank's place. Th...</td>\n",
       "    </tr>\n",
       "    <tr>\n",
       "      <td>2</td>\n",
       "      <td>3781</td>\n",
       "      <td>99.0</td>\n",
       "      <td>10.0</td>\n",
       "      <td>10.0</td>\n",
       "      <td>10.0</td>\n",
       "      <td>10.0</td>\n",
       "      <td>10.0</td>\n",
       "      <td>10.0</td>\n",
       "      <td>12264652</td>\n",
       "      <td>The apartment description is entirely faithful...</td>\n",
       "    </tr>\n",
       "    <tr>\n",
       "      <td>3</td>\n",
       "      <td>3781</td>\n",
       "      <td>99.0</td>\n",
       "      <td>10.0</td>\n",
       "      <td>10.0</td>\n",
       "      <td>10.0</td>\n",
       "      <td>10.0</td>\n",
       "      <td>10.0</td>\n",
       "      <td>10.0</td>\n",
       "      <td>41426327</td>\n",
       "      <td>Thoroughly enjoyed my time at Frank's home. Ha...</td>\n",
       "    </tr>\n",
       "    <tr>\n",
       "      <td>4</td>\n",
       "      <td>3781</td>\n",
       "      <td>99.0</td>\n",
       "      <td>10.0</td>\n",
       "      <td>10.0</td>\n",
       "      <td>10.0</td>\n",
       "      <td>10.0</td>\n",
       "      <td>10.0</td>\n",
       "      <td>10.0</td>\n",
       "      <td>15151513</td>\n",
       "      <td>Great value for the money! This location has e...</td>\n",
       "    </tr>\n",
       "    <tr>\n",
       "      <td>...</td>\n",
       "      <td>...</td>\n",
       "      <td>...</td>\n",
       "      <td>...</td>\n",
       "      <td>...</td>\n",
       "      <td>...</td>\n",
       "      <td>...</td>\n",
       "      <td>...</td>\n",
       "      <td>...</td>\n",
       "      <td>...</td>\n",
       "      <td>...</td>\n",
       "    </tr>\n",
       "    <tr>\n",
       "      <td>161630</td>\n",
       "      <td>41800576</td>\n",
       "      <td>80.0</td>\n",
       "      <td>8.0</td>\n",
       "      <td>10.0</td>\n",
       "      <td>8.0</td>\n",
       "      <td>8.0</td>\n",
       "      <td>10.0</td>\n",
       "      <td>8.0</td>\n",
       "      <td>197733547</td>\n",
       "      <td>Very good place</td>\n",
       "    </tr>\n",
       "    <tr>\n",
       "      <td>161631</td>\n",
       "      <td>41820180</td>\n",
       "      <td>100.0</td>\n",
       "      <td>10.0</td>\n",
       "      <td>10.0</td>\n",
       "      <td>10.0</td>\n",
       "      <td>10.0</td>\n",
       "      <td>10.0</td>\n",
       "      <td>10.0</td>\n",
       "      <td>39657534</td>\n",
       "      <td>An is absolutely AMAZING!!! Sooo nice, so cour...</td>\n",
       "    </tr>\n",
       "    <tr>\n",
       "      <td>161632</td>\n",
       "      <td>41838589</td>\n",
       "      <td>100.0</td>\n",
       "      <td>10.0</td>\n",
       "      <td>10.0</td>\n",
       "      <td>10.0</td>\n",
       "      <td>10.0</td>\n",
       "      <td>10.0</td>\n",
       "      <td>10.0</td>\n",
       "      <td>31144173</td>\n",
       "      <td>This efficiency unit was great for a work trip...</td>\n",
       "    </tr>\n",
       "    <tr>\n",
       "      <td>161633</td>\n",
       "      <td>41889162</td>\n",
       "      <td>100.0</td>\n",
       "      <td>10.0</td>\n",
       "      <td>10.0</td>\n",
       "      <td>10.0</td>\n",
       "      <td>10.0</td>\n",
       "      <td>10.0</td>\n",
       "      <td>10.0</td>\n",
       "      <td>235976114</td>\n",
       "      <td>Great host! And great place! Enjoyed it a lot.</td>\n",
       "    </tr>\n",
       "    <tr>\n",
       "      <td>161634</td>\n",
       "      <td>42074896</td>\n",
       "      <td>100.0</td>\n",
       "      <td>10.0</td>\n",
       "      <td>10.0</td>\n",
       "      <td>10.0</td>\n",
       "      <td>10.0</td>\n",
       "      <td>10.0</td>\n",
       "      <td>10.0</td>\n",
       "      <td>134720980</td>\n",
       "      <td>What an amazing stay in a great location. We w...</td>\n",
       "    </tr>\n",
       "  </tbody>\n",
       "</table>\n",
       "<p>161622 rows × 10 columns</p>\n",
       "</div>"
      ],
      "text/plain": [
       "        listing_id  review_scores_rating  review_scores_accuracy  \\\n",
       "0             3781                  99.0                    10.0   \n",
       "1             3781                  99.0                    10.0   \n",
       "2             3781                  99.0                    10.0   \n",
       "3             3781                  99.0                    10.0   \n",
       "4             3781                  99.0                    10.0   \n",
       "...            ...                   ...                     ...   \n",
       "161630    41800576                  80.0                     8.0   \n",
       "161631    41820180                 100.0                    10.0   \n",
       "161632    41838589                 100.0                    10.0   \n",
       "161633    41889162                 100.0                    10.0   \n",
       "161634    42074896                 100.0                    10.0   \n",
       "\n",
       "        review_scores_cleanliness  review_scores_checkin  \\\n",
       "0                            10.0                   10.0   \n",
       "1                            10.0                   10.0   \n",
       "2                            10.0                   10.0   \n",
       "3                            10.0                   10.0   \n",
       "4                            10.0                   10.0   \n",
       "...                           ...                    ...   \n",
       "161630                       10.0                    8.0   \n",
       "161631                       10.0                   10.0   \n",
       "161632                       10.0                   10.0   \n",
       "161633                       10.0                   10.0   \n",
       "161634                       10.0                   10.0   \n",
       "\n",
       "        review_scores_communication  review_scores_location  \\\n",
       "0                              10.0                    10.0   \n",
       "1                              10.0                    10.0   \n",
       "2                              10.0                    10.0   \n",
       "3                              10.0                    10.0   \n",
       "4                              10.0                    10.0   \n",
       "...                             ...                     ...   \n",
       "161630                          8.0                    10.0   \n",
       "161631                         10.0                    10.0   \n",
       "161632                         10.0                    10.0   \n",
       "161633                         10.0                    10.0   \n",
       "161634                         10.0                    10.0   \n",
       "\n",
       "        review_scores_value  reviewer_id  \\\n",
       "0                      10.0     36059247   \n",
       "1                      10.0     10459388   \n",
       "2                      10.0     12264652   \n",
       "3                      10.0     41426327   \n",
       "4                      10.0     15151513   \n",
       "...                     ...          ...   \n",
       "161630                  8.0    197733547   \n",
       "161631                 10.0     39657534   \n",
       "161632                 10.0     31144173   \n",
       "161633                 10.0    235976114   \n",
       "161634                 10.0    134720980   \n",
       "\n",
       "                                                 comments  \n",
       "0       The apartment was as advertised and Frank was ...  \n",
       "1       It was a pleasure to stay at Frank's place. Th...  \n",
       "2       The apartment description is entirely faithful...  \n",
       "3       Thoroughly enjoyed my time at Frank's home. Ha...  \n",
       "4       Great value for the money! This location has e...  \n",
       "...                                                   ...  \n",
       "161630                                    Very good place  \n",
       "161631  An is absolutely AMAZING!!! Sooo nice, so cour...  \n",
       "161632  This efficiency unit was great for a work trip...  \n",
       "161633     Great host! And great place! Enjoyed it a lot.  \n",
       "161634  What an amazing stay in a great location. We w...  \n",
       "\n",
       "[161622 rows x 10 columns]"
      ]
     },
     "execution_count": 152,
     "metadata": {},
     "output_type": "execute_result"
    }
   ],
   "source": [
    "full"
   ]
  },
  {
   "cell_type": "code",
   "execution_count": null,
   "metadata": {},
   "outputs": [],
   "source": []
  }
 ],
 "metadata": {
  "kernelspec": {
   "display_name": "Python 3",
   "language": "python",
   "name": "python3"
  },
  "language_info": {
   "codemirror_mode": {
    "name": "ipython",
    "version": 3
   },
   "file_extension": ".py",
   "mimetype": "text/x-python",
   "name": "python",
   "nbconvert_exporter": "python",
   "pygments_lexer": "ipython3",
   "version": "3.7.4"
  }
 },
 "nbformat": 4,
 "nbformat_minor": 2
}
