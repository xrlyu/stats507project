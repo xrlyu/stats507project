{
 "cells": [
  {
   "cell_type": "markdown",
   "metadata": {},
   "source": [
    "This is the document used to calculate tfidf score\n",
    "\n",
    "Read sent.pkl and output:"
   ]
  },
  {
   "cell_type": "code",
   "execution_count": 13,
   "metadata": {},
   "outputs": [],
   "source": [
    "# read all needed packages\n",
    "\n",
    "import numpy as np\n",
    "import pandas as pd\n",
    "import matplotlib\n",
    "import matplotlib.pyplot as plt\n",
    "import string\n",
    "import sklearn\n",
    "\n",
    "from sklearn.feature_extraction.text import TfidfVectorizer\n",
    "import scipy\n",
    "\n",
    "from langdetect import detect\n",
    "from langdetect import DetectorFactory\n",
    "DetectorFactory.seed = 0\n",
    "\n",
    "from nltk.tokenize import word_tokenize\n",
    "from nltk.corpus import stopwords\n",
    "from nltk.stem.porter import PorterStemmer\n",
    "from nltk.stem import WordNetLemmatizer\n",
    "\n",
    "import pickle\n",
    "\n",
    "## use lines below to download sources related to NLTK\n",
    "# import nltk\n",
    "# nltk.download('stopwords')\n",
    "# nltk.download('punkt')\n",
    "# nltk.download('wordnet')"
   ]
  },
  {
   "cell_type": "code",
   "execution_count": 8,
   "metadata": {},
   "outputs": [],
   "source": [
    "## read the sentences data\n",
    "\n",
    "with open('sent.pkl', 'rb') as f:\n",
    "    list_reviews = pickle.load(f)"
   ]
  },
  {
   "cell_type": "code",
   "execution_count": 24,
   "metadata": {},
   "outputs": [],
   "source": [
    "## convert the disctionary to list\n",
    "listings = [key for key in list_reviews]\n",
    "reviews = [ v for v in list_reviews.values() ]\n",
    "\n",
    "## construct the tfidf scores\n",
    "vectorizer = TfidfVectorizer()\n",
    "vectors = vectorizer.fit_transform(reviews)\n",
    "feature_names = vectorizer.get_feature_names()\n",
    "dense = vectors.todense()\n",
    "denselist = dense.tolist()\n",
    "\n",
    "## write to panda\n",
    "df_tfidf = pd.DataFrame(denselist, index=listings, columns=feature_names)"
   ]
  },
  {
   "cell_type": "code",
   "execution_count": 31,
   "metadata": {},
   "outputs": [
    {
     "data": {
      "text/plain": [
       "' apart advertis frank incred help entir process would definit recommend place pleasur stay frank place place everyth need make home base visit work downtown close maverick squar min train ride downtown boston park breez drive lot street park plu privat spot frank give lot privaci knowledg area would stay next time boston apart descript entir faith build well maintain ac laundri util conveni nice view harbor back build lend well quiet relax even frank help throughout durat stay recommend heartbeat thoroughli enjoy time frank home amen clean accommod happi locat privat lock gate park lot great food neighborhood fantast view seaport there good chanc back boston next year work definit look stay great valu money locat exceed expect photo nt justic place cozi home locat conveni five minut walk airport realli nt hire cab get hous come plane take silver line bu airport take south station stop convent center ride citi free bu take everi minut despit close airport hous calm nt troubl sleep sensit nois mean place inde calm respons overbear host pleasur deal frank accommod throughout stay east boston easi reach via text phone email frank provid detail instruct entri allow seamless transit airport resid upon entri clear frank take pride clean present home need home away home whether busi leisur spot excel second stay jeffri st locat frank extraordinarili help accommod host busi bring back east boston area hesit reach third stay frank wonder accommod host respons question place exactli describ pictur clean orderli arriv check process smooth easi place ideal locat close harbor walk short walk away water taxi public transport downtown boston three night stay enhanc well equip kitchen restaur walk distanc perfect weekend boston frank great apart everyth need includ park neighborhood love close water restaur train airport min walk nice comfort apart good locat frank nice person apart everyth describ clean within walk distanc airport get bu take subway sketchi night good frank place great part east boston locat nice quiet airport nois nt realli bad pretti close blue line make easi hop citi great jog trail nearbi pier park around corner beauti super fanci apart everyth work order comfort place stay also think get good valu money sinc east boston still consider cheaper rest citi overal recommend place frank place ground floor unit storey wooden multifamili hous frank live upstair apart comfort ideal week stay great cook facil spaciou studio yard harboursid minut walk airport nearest metro station mile away stop boston citi east boston bluecollar area upandcom due conveni harbour view nt expect much way trendi cafe restaur one typic italian latino cater local rather tourist ko pie nearbi run bunch aussi keen educ new england delight aussi meat pie well worth visit great park nearbi excel jog rout frank place would suit coupl famili one doubl bed term valu money frank unbeat great place base boston visit longterm stay great place amaz citi fantast host partner stay frank apart sever month great experi frank accommod thought need also give u good amount privaci locat great quiet safe neighborhood would definit stay area futur thank like much apart rent frank place perfectli clean everi think need middlelong stay boston frank great host respons made everyth facilit stay like also much neighborhood pier liter end street nice pier park min walk highli recommend everyon'"
      ]
     },
     "execution_count": 31,
     "metadata": {},
     "output_type": "execute_result"
    }
   ],
   "source": [
    "feature_names[]"
   ]
  }
 ],
 "metadata": {
  "kernelspec": {
   "display_name": "Python 3",
   "language": "python",
   "name": "python3"
  },
  "language_info": {
   "codemirror_mode": {
    "name": "ipython",
    "version": 3
   },
   "file_extension": ".py",
   "mimetype": "text/x-python",
   "name": "python",
   "nbconvert_exporter": "python",
   "pygments_lexer": "ipython3",
   "version": "3.7.6"
  }
 },
 "nbformat": 4,
 "nbformat_minor": 4
}
